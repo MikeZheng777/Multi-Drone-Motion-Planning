{
 "cells": [
  {
   "cell_type": "code",
   "execution_count": 30,
   "metadata": {},
   "outputs": [],
   "source": [
    "import cv2\n",
    "import os\n",
    "import numpy as np\n",
    "\n",
    "import re\n",
    "def extract_ending(filename):\n",
    "    # Regular expression to find numbers in a string\n",
    "    id = re.findall(r'\\d+', filename)\n",
    "    if id:\n",
    "        # Return the last found number in the filename as an integer\n",
    "        return int(id[-1])\n",
    "    else:\n",
    "        # Return 0 if no number is found\n",
    "        \n",
    "        return 0\n",
    "\n",
    "def convert_images_to_video(image_folder, video_name, fps):\n",
    "    images = [img for img in os.listdir(image_folder) if img.endswith(\".jpeg\") or img.endswith(\".png\")]\n",
    "\n",
    "    # Sort the images by name\n",
    "    images.sort(key=extract_ending)\n",
    "    # images = images[130:345]\n",
    "    \n",
    "    # Read the first image to get the width and height\n",
    "    frame = cv2.imread(os.path.join(image_folder, images[0]))\n",
    "    height, width, layers = frame.shape\n",
    "\n",
    "    # Define the codec and create VideoWriter object\n",
    "    fourcc = cv2.VideoWriter_fourcc(*'mp4v')  # or use 'XVID' if you prefer\n",
    "    video = cv2.VideoWriter(video_name, fourcc, fps, (width, height))\n",
    "\n",
    "    for image in images:\n",
    "        video.write(cv2.imread(os.path.join(image_folder, image)))\n",
    "\n",
    "    cv2.destroyAllWindows()\n",
    "    video.release()\n",
    "\n",
    "# Usage\n"
   ]
  },
  {
   "cell_type": "code",
   "execution_count": 35,
   "metadata": {},
   "outputs": [],
   "source": [
    "image_folder = 'results/recording_05.13.2024_14.08.06'  # Update this path\n",
    "video_name = image_folder + '_final' +'.mp4'\n",
    "fps = 10  # Frames per second\n",
    "convert_images_to_video(image_folder, video_name, fps)\n"
   ]
  },
  {
   "cell_type": "code",
   "execution_count": 9,
   "metadata": {},
   "outputs": [],
   "source": [
    "def create_map_file():\n",
    "    \n",
    "    block_sub_1 = ['@','.','@','@','.','@']\n",
    "    block_sub_2 = ['.','.','.','.','.','.']\n",
    "    block_sub_3 = ['@','@','.','.','@','@']\n",
    "    repeat_count_1 = 30  \n",
    "    repeat_count_2 = 10  \n",
    "    repeat_count_3 = 10  \n",
    "    height = repeat_count_1 + repeat_count_2 + repeat_count_3\n",
    "    \n",
    "    \n",
    "    grid_block_1 = []\n",
    "    \n",
    "    for _ in range(repeat_count_1):\n",
    "        grid_block_1.append(block_sub_1)\n",
    "    \n",
    "    for _ in range(repeat_count_2):\n",
    "        grid_block_1.append(block_sub_2)\n",
    "    \n",
    "    for _ in range(repeat_count_3):\n",
    "        grid_block_1.append(block_sub_3)\n",
    "\n",
    "    horizontal_replication_count = 30\n",
    "    width = horizontal_replication_count\n",
    "    larger_grid = []\n",
    "    for row in grid_block_1:\n",
    "        new_row = row * horizontal_replication_count\n",
    "        larger_grid.append(new_row)\n",
    "\n",
    "\n",
    "    with open('custom_map.map', 'w') as file:\n",
    "        file.write('type octile\\n')\n",
    "        file.write(f'height {height}\\n')\n",
    "        file.write(f'width {width}\\n')\n",
    "        file.write('map\\n')\n",
    "        for row in larger_grid:\n",
    "            file.write(''.join(row) + '\\n')\n",
    "\n",
    "\n",
    "create_map_file()"
   ]
  }
 ],
 "metadata": {
  "kernelspec": {
   "display_name": "Python 3.9.16 ('Learning_Control')",
   "language": "python",
   "name": "python3"
  },
  "language_info": {
   "codemirror_mode": {
    "name": "ipython",
    "version": 3
   },
   "file_extension": ".py",
   "mimetype": "text/x-python",
   "name": "python",
   "nbconvert_exporter": "python",
   "pygments_lexer": "ipython3",
   "version": "3.9.16"
  },
  "orig_nbformat": 4,
  "vscode": {
   "interpreter": {
    "hash": "8ceae54b72edb6be4d1479df19e9586f452cbdbe97d5dca095f11fcf773afe07"
   }
  }
 },
 "nbformat": 4,
 "nbformat_minor": 2
}

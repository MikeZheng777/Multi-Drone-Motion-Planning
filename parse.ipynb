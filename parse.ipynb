{
 "cells": [
  {
   "cell_type": "code",
   "execution_count": 13,
   "metadata": {},
   "outputs": [
    {
     "name": "stdout",
     "output_type": "stream",
     "text": [
      "2024-04-29 15:38:49,096 - INFO - Received message: {\"RoutingKeys\":[\"Symbotic.SystemState.Event.Bot.Updated.Level-{levelId}\",\"Symbotic.SystemState.Event.Bot.Updated.Level-{levelId}.Bot-{botId}\"],\"BotStatus\":{\"Id\":15,\"UpdateTimeUTC\":\"2024-04-29T19:38:50.1815864Z\",\"Pose\":{\"Position\":{\"XMm\":18669,\"YMm\":6275},\"Yaw\":{\"MRad\":-3079}},\"LinearVelocity\":{\"MmPerSec\":3},\"Charge\":{\"MilliVolts\":45341},\"ActionQueue\":[{\"Id\":15006,\"Duration\":{\"MSec\":1026},\"AdditionalBufferedSpace\":null,\"StartPose\":{\"Position\":{\"XMm\":19540,\"YMm\":6275},\"Yaw\":{\"MRad\":3142}},\"EndPose\":{\"Position\":{\"XMm\":18668,\"YMm\":6275},\"Yaw\":{\"MRad\":-1571}},\"ActionType\":\"AddJsonWaypoint\"},{\"Id\":15007,\"Duration\":{\"MSec\":1112},\"AdditionalBufferedSpace\":null,\"StartPose\":{\"Position\":{\"XMm\":18668,\"YMm\":6275},\"Yaw\":{\"MRad\":-1571}},\"EndPose\":{\"Position\":{\"XMm\":18668,\"YMm\":7202},\"Yaw\":{\"MRad\":-1571}},\"ActionType\":\"AddJsonWaypoint\"},{\"Id\":15008,\"Duration\":{\"MSec\":407},\"AdditionalBufferedSpace\":null,\"StartPose\":{\"Position\":{\"XMm\":18668,\"YMm\":7202},\"Yaw\":{\"MRad\":-1571}},\"EndPose\":{\"Position\":{\"XMm\":18668,\"YMm\":7609},\"Yaw\":{\"MRad\":-1571}},\"ActionType\":\"AddJsonWaypoint\"},{\"Id\":15009,\"Duration\":{\"MSec\":1037},\"AdditionalBufferedSpace\":null,\"StartPose\":{\"Position\":{\"XMm\":18668,\"YMm\":7609},\"Yaw\":{\"MRad\":-1571}},\"EndPose\":{\"Position\":{\"XMm\":18668,\"YMm\":8646},\"Yaw\":{\"MRad\":-1571}},\"ActionType\":\"AddJsonWaypoint\"},{\"Id\":15010,\"Duration\":{\"MSec\":3050},\"AdditionalBufferedSpace\":null,\"StartPose\":{\"Position\":{\"XMm\":18668,\"YMm\":8646},\"Yaw\":{\"MRad\":-1571}},\"EndPose\":{\"Position\":{\"XMm\":18668,\"YMm\":16769},\"Yaw\":{\"MRad\":-1571}},\"ActionType\":\"AddJsonWaypoint\"},{\"Id\":15011,\"Duration\":{\"MSec\":3551},\"AdditionalBufferedSpace\":null,\"StartPose\":{\"Position\":{\"XMm\":18668,\"YMm\":16769},\"Yaw\":{\"MRad\":-1571}},\"EndPose\":{\"Position\":{\"XMm\":18668,\"YMm\":26226},\"Yaw\":{\"MRad\":-1571}},\"ActionType\":\"AddJsonWaypoint\"}],\"LastCompletedWaypoint\":{\"Pose\":{\"Position\":{\"XMm\":19540,\"YMm\":6275},\"Yaw\":{\"MRad\":3142}},\"Speed\":{\"MmPerSec\":0}},\"OperationalState\":\"Active\"}}\n",
      "\n",
      "\n",
      "2024-04-29 15:38:49,894 - INFO - Received message: {\"RoutingKeys\":[\"Symbotic.SystemState.Event.Bot.Updated.Level-{levelId}\",\"Symbotic.SystemState.Event.Bot.Updated.Level-{levelId}.Bot-{botId}\"],\"BotStatus\":{\"Id\":16,\"UpdateTimeUTC\":\"2024-04-29T19:38:51.6815864Z\",\"Pose\":{\"Position\":{\"XMm\":104065,\"YMm\":-2039},\"Yaw\":{\"MRad\":1571}},\"LinearVelocity\":{\"MmPerSec\":0},\"Charge\":{\"MilliVolts\":46300},\"ActionQueue\":[{\"Id\":16900,\"Duration\":{\"MSec\":10478},\"AdditionalBufferedSpace\":null,\"StartPose\":{\"Position\":{\"XMm\":104065,\"YMm\":-2039},\"Yaw\":{\"MRad\":1571}},\"EndPose\":{\"Position\":{\"XMm\":104065,\"YMm\":-2039},\"Yaw\":{\"MRad\":1571}},\"ActionType\":\"Pick\"}],\"LastCompletedWaypoint\":null,\"OperationalState\":\"Idle\"}}\n",
      "\n",
      "\n",
      "2024-04-29 15:38:50,171 - INFO - Received message: {\"RoutingKeys\":[\"Symbotic.SystemState.Event.Bot.Updated.Level-{levelId}\",\"Symbotic.SystemState.Event.Bot.Updated.Level-{levelId}.Bot-{botId}\"],\"BotStatus\":{\"Id\":15,\"UpdateTimeUTC\":\"2024-04-29T19:38:52.1815864Z\",\"Pose\":{\"Position\":{\"XMm\":18669,\"YMm\":6320},\"Yaw\":{\"MRad\":-1572}},\"LinearVelocity\":{\"MmPerSec\":-360},\"Charge\":{\"MilliVolts\":45304},\"ActionQueue\":[{\"Id\":15007,\"Duration\":{\"MSec\":1112},\"AdditionalBufferedSpace\":null,\"StartPose\":{\"Position\":{\"XMm\":18668,\"YMm\":6275},\"Yaw\":{\"MRad\":-1571}},\"EndPose\":{\"Position\":{\"XMm\":18668,\"YMm\":7202},\"Yaw\":{\"MRad\":-1571}},\"ActionType\":\"AddJsonWaypoint\"},{\"Id\":15008,\"Duration\":{\"MSec\":407},\"AdditionalBufferedSpace\":null,\"StartPose\":{\"Position\":{\"XMm\":18668,\"YMm\":7202},\"Yaw\":{\"MRad\":-1571}},\"EndPose\":{\"Position\":{\"XMm\":18668,\"YMm\":7609},\"Yaw\":{\"MRad\":-1571}},\"ActionType\":\"AddJsonWaypoint\"},{\"Id\":15009,\"Duration\":{\"MSec\":1037},\"AdditionalBufferedSpace\":null,\"StartPose\":{\"Position\":{\"XMm\":18668,\"YMm\":7609},\"Yaw\":{\"MRad\":-1571}},\"EndPose\":{\"Position\":{\"XMm\":18668,\"YMm\":8646},\"Yaw\":{\"MRad\":-1571}},\"ActionType\":\"AddJsonWaypoint\"},{\"Id\":15010,\"Duration\":{\"MSec\":3050},\"AdditionalBufferedSpace\":null,\"StartPose\":{\"Position\":{\"XMm\":18668,\"YMm\":8646},\"Yaw\":{\"MRad\":-1571}},\"EndPose\":{\"Position\":{\"XMm\":18668,\"YMm\":16769},\"Yaw\":{\"MRad\":-1571}},\"ActionType\":\"AddJsonWaypoint\"},{\"Id\":15011,\"Duration\":{\"MSec\":3551},\"AdditionalBufferedSpace\":null,\"StartPose\":{\"Position\":{\"XMm\":18668,\"YMm\":16769},\"Yaw\":{\"MRad\":-1571}},\"EndPose\":{\"Position\":{\"XMm\":18668,\"YMm\":26226},\"Yaw\":{\"MRad\":-1571}},\"ActionType\":\"AddJsonWaypoint\"}],\"LastCompletedWaypoint\":{\"Pose\":{\"Position\":{\"XMm\":18668,\"YMm\":6275},\"Yaw\":{\"MRad\":-1571}},\"Speed\":{\"MmPerSec\":0}},\"OperationalState\":\"Active\"}}\n",
      "\n",
      "\n"
     ]
    }
   ],
   "source": [
    "max_i = 3\n",
    "i = 0\n",
    "with open('rabbitmq_2.log', 'r') as file:\n",
    "    for line in file:\n",
    "        if 'ActionQueue' in line:\n",
    "            print(line.strip()) \n",
    "            print('\\n')\n",
    "            i += 1\n",
    "            if i >= max_i:\n",
    "                break\n",
    "            "
   ]
  },
  {
   "cell_type": "code",
   "execution_count": 11,
   "metadata": {},
   "outputs": [
    {
     "data": {
      "text/plain": [
       "str"
      ]
     },
     "execution_count": 11,
     "metadata": {},
     "output_type": "execute_result"
    }
   ],
   "source": []
  },
  {
   "cell_type": "code",
   "execution_count": null,
   "metadata": {},
   "outputs": [],
   "source": []
  }
 ],
 "metadata": {
  "kernelspec": {
   "display_name": "Python 3.10.14 ('drones')",
   "language": "python",
   "name": "python3"
  },
  "language_info": {
   "codemirror_mode": {
    "name": "ipython",
    "version": 3
   },
   "file_extension": ".py",
   "mimetype": "text/x-python",
   "name": "python",
   "nbconvert_exporter": "python",
   "pygments_lexer": "ipython3",
   "version": "3.10.14"
  },
  "orig_nbformat": 4,
  "vscode": {
   "interpreter": {
    "hash": "fe70f041e9f23fe45b8c782d62a110b89e1f59c68ca5d73d33b2c56e121e7135"
   }
  }
 },
 "nbformat": 4,
 "nbformat_minor": 2
}
